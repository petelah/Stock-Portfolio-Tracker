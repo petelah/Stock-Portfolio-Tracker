{
 "cells": [
  {
   "cell_type": "code",
   "execution_count": 1,
   "metadata": {
    "pycharm": {
     "is_executing": false
    }
   },
   "outputs": [
    {
     "data": {
      "text/html": [
       "<div>\n",
       "<style scoped>\n",
       "    .dataframe tbody tr th:only-of-type {\n",
       "        vertical-align: middle;\n",
       "    }\n",
       "\n",
       "    .dataframe tbody tr th {\n",
       "        vertical-align: top;\n",
       "    }\n",
       "\n",
       "    .dataframe thead th {\n",
       "        text-align: right;\n",
       "    }\n",
       "</style>\n",
       "<table border=\"1\" class=\"dataframe\">\n",
       "  <thead>\n",
       "    <tr style=\"text-align: right;\">\n",
       "      <th></th>\n",
       "      <th>High</th>\n",
       "      <th>Low</th>\n",
       "      <th>Open</th>\n",
       "      <th>Close</th>\n",
       "      <th>Volume</th>\n",
       "      <th>Adj Close</th>\n",
       "    </tr>\n",
       "    <tr>\n",
       "      <th>Date</th>\n",
       "      <th></th>\n",
       "      <th></th>\n",
       "      <th></th>\n",
       "      <th></th>\n",
       "      <th></th>\n",
       "      <th></th>\n",
       "    </tr>\n",
       "  </thead>\n",
       "  <tbody>\n",
       "    <tr>\n",
       "      <th>2019-09-09</th>\n",
       "      <td>143.020004</td>\n",
       "      <td>140.460007</td>\n",
       "      <td>140.589996</td>\n",
       "      <td>142.600006</td>\n",
       "      <td>4226600.0</td>\n",
       "      <td>135.854324</td>\n",
       "    </tr>\n",
       "    <tr>\n",
       "      <th>2019-09-10</th>\n",
       "      <td>145.460007</td>\n",
       "      <td>142.960007</td>\n",
       "      <td>143.000000</td>\n",
       "      <td>145.050003</td>\n",
       "      <td>4979700.0</td>\n",
       "      <td>138.188431</td>\n",
       "    </tr>\n",
       "    <tr>\n",
       "      <th>2019-09-11</th>\n",
       "      <td>145.119995</td>\n",
       "      <td>142.710007</td>\n",
       "      <td>144.850006</td>\n",
       "      <td>143.600006</td>\n",
       "      <td>3869700.0</td>\n",
       "      <td>136.807022</td>\n",
       "    </tr>\n",
       "    <tr>\n",
       "      <th>2019-09-12</th>\n",
       "      <td>144.039993</td>\n",
       "      <td>141.880005</td>\n",
       "      <td>144.029999</td>\n",
       "      <td>143.619995</td>\n",
       "      <td>2505400.0</td>\n",
       "      <td>136.826080</td>\n",
       "    </tr>\n",
       "    <tr>\n",
       "      <th>2019-09-13</th>\n",
       "      <td>144.649994</td>\n",
       "      <td>143.259995</td>\n",
       "      <td>144.320007</td>\n",
       "      <td>143.669998</td>\n",
       "      <td>2206600.0</td>\n",
       "      <td>136.873703</td>\n",
       "    </tr>\n",
       "  </tbody>\n",
       "</table>\n",
       "</div>"
      ],
      "text/plain": [
       "                  High         Low        Open       Close     Volume  \\\n",
       "Date                                                                    \n",
       "2019-09-09  143.020004  140.460007  140.589996  142.600006  4226600.0   \n",
       "2019-09-10  145.460007  142.960007  143.000000  145.050003  4979700.0   \n",
       "2019-09-11  145.119995  142.710007  144.850006  143.600006  3869700.0   \n",
       "2019-09-12  144.039993  141.880005  144.029999  143.619995  2505400.0   \n",
       "2019-09-13  144.649994  143.259995  144.320007  143.669998  2206600.0   \n",
       "\n",
       "             Adj Close  \n",
       "Date                    \n",
       "2019-09-09  135.854324  \n",
       "2019-09-10  138.188431  \n",
       "2019-09-11  136.807022  \n",
       "2019-09-12  136.826080  \n",
       "2019-09-13  136.873703  "
      ]
     },
     "execution_count": 1,
     "metadata": {},
     "output_type": "execute_result"
    }
   ],
   "source": [
    "import pandas_datareader.data as web\n",
    "import pandas as pd\n",
    "import datetime as dt\n",
    "import matplotlib.pyplot as plt\n",
    "df = web.DataReader('IBM', 'yahoo', start='2019-09-10')\n",
    "df.head()\n"
   ]
  },
  {
   "cell_type": "code",
   "execution_count": 2,
   "metadata": {},
   "outputs": [
    {
     "data": {
      "text/plain": [
       "<AxesSubplot:xlabel='Date'>"
      ]
     },
     "execution_count": 2,
     "metadata": {},
     "output_type": "execute_result"
    },
    {
     "data": {
      "image/png": "[encoded data removed]",
      "text/plain": [
       "<Figure size 432x288 with 1 Axes>"
      ]
     },
     "metadata": {
      "needs_background": "light"
     },
     "output_type": "display_data"
    }
   ],
   "source": [
    "df = df.cumsum()\n",
    "\n",
    "df.plot()"
   ]
  },
  {
   "cell_type": "code",
   "execution_count": null,
   "metadata": {},
   "outputs": [],
   "source": []
  }
 ],
 "metadata": {
  "kernelspec": {
   "display_name": "Python 3",
   "language": "python",
   "name": "python3"
  },
  "language_info": {
   "codemirror_mode": {
    "name": "ipython",
    "version": 3
   },
   "file_extension": ".py",
   "mimetype": "text/x-python",
   "name": "python",
   "nbconvert_exporter": "python",
   "pygments_lexer": "ipython3",
   "version": "3.7.1"
  }
 },
 "nbformat": 4,
 "nbformat_minor": 1
}
